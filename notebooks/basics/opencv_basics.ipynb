{
 "cells": [
  {
   "cell_type": "code",
   "execution_count": 1,
   "metadata": {},
   "outputs": [],
   "source": [
    "import cv2 as cv\n",
    "import numpy as np\n",
    "import sys\n",
    " "
   ]
  },
  {
   "cell_type": "code",
   "execution_count": null,
   "metadata": {},
   "outputs": [],
   "source": [
    "#window names\n",
    "atom_window = \"Draw 1: Atom\"\n",
    "rook_window = \"Drawing 2: Rook\"\n",
    "W = 500\n",
    "\n",
    "size = W, W, 3\n",
    "\n",
    "atom_image = np.zeros(size, dtype=np.uint8)\n",
    "rook_image = np.zeros(size, dtype=np.uint8)"
   ]
  },
  {
   "cell_type": "code",
   "execution_count": 11,
   "metadata": {},
   "outputs": [],
   "source": [
    "def my_ellipse(img, angle):\n",
    "    thickness = 2\n",
    "    line_type = 8\n",
    " \n",
    "    cv.ellipse(img,\n",
    "                (W // 2, W // 2),\n",
    "                (W // 4, W // 16),\n",
    "                angle,\n",
    "                0,\n",
    "                360,\n",
    "                (255, 0, 0),\n",
    "                thickness,\n",
    "                line_type)\n",
    "\n",
    "def my_filled_circle(img, center):\n",
    "    thickness = -1\n",
    "    line_type = 8\n",
    " \n",
    "    cv.circle(img,\n",
    "               center,\n",
    "               W // 32,\n",
    "               (0, 0, 255),\n",
    "               thickness,\n",
    "               line_type)\n",
    "\n",
    "def my_polygon(img):\n",
    "    line_type = 8\n",
    " \n",
    "    # Create some points\n",
    "    ppt = np.array([[W / 4, 7 * W / 8], [3 * W / 4, 7 * W / 8],\n",
    "                    [3 * W / 4, 13 * W / 16], [11 * W / 16, 13 * W / 16],\n",
    "                    [19 * W / 32, 3 * W / 8], [3 * W / 4, 3 * W / 8],\n",
    "                    [3 * W / 4, W / 8], [26 * W / 40, W / 8],\n",
    "                    [26 * W / 40, W / 4], [22 * W / 40, W / 4],\n",
    "                    [22 * W / 40, W / 8], [18 * W / 40, W / 8],\n",
    "                    [18 * W / 40, W / 4], [14 * W / 40, W / 4],\n",
    "                    [14 * W / 40, W / 8], [W / 4, W / 8],\n",
    "                    [W / 4, 3 * W / 8], [13 * W / 32, 3 * W / 8],\n",
    "                    [5 * W / 16, 13 * W / 16], [W / 4, 13 * W / 16]], np.int32)\n",
    "    ppt = ppt.reshape((-1, 1, 2))\n",
    "    cv.fillPoly(img, [ppt], (255, 255, 255), line_type)\n",
    "    # Only drawind the lines would be:\n",
    "    # cv.polylines(img, [ppt], True, (255, 0, 255), line_type)\n",
    " \n",
    "def my_line(img, start, end):\n",
    "    thickness = 2\n",
    "    line_type = 8\n",
    " \n",
    "    cv.line(img,\n",
    "             start,\n",
    "             end,\n",
    "             (0, 0, 0),\n",
    "             thickness,\n",
    "             line_type)"
   ]
  },
  {
   "cell_type": "code",
   "execution_count": 12,
   "metadata": {},
   "outputs": [],
   "source": [
    "# 1. Draw a simple atom:\n",
    "# -----------------------\n",
    " \n",
    "# 1.a. Creating ellipses\n",
    "my_ellipse(atom_image, 10)\n",
    "my_ellipse(atom_image, 15)\n",
    "my_ellipse(atom_image, 25)\n",
    "my_ellipse(atom_image, 5)\n",
    " \n",
    "# 1.b. Creating circles\n",
    "my_filled_circle(atom_image, (W // 2, W // 2))\n",
    "\n",
    "my_polygon(rook_image)\n",
    " \n",
    "cv.rectangle(rook_image,\n",
    "              (0, 7 * W // 8),\n",
    "              (W, W),\n",
    "              (0, 255, 255),\n",
    "              -1,\n",
    "              8)\n",
    " \n",
    " \n",
    "#  2.c. Create a few lines\n",
    "my_line(rook_image, (0, 15 * W // 16), (W, 15 * W // 16))\n",
    "my_line(rook_image, (W // 4, 7 * W // 8), (W // 4, W))\n",
    "my_line(rook_image, (W // 2, 7 * W // 8), (W // 2, W))\n",
    "my_line(rook_image, (3 * W // 4, 7 * W // 8), (3 * W // 4, W))"
   ]
  },
  {
   "cell_type": "code",
   "execution_count": 14,
   "metadata": {},
   "outputs": [],
   "source": [
    "cv.imshow(atom_window, atom_image)\n",
    "cv.moveWindow(atom_window, 0, 200)\n",
    "cv.imshow(rook_window, rook_image)\n",
    "cv.moveWindow(rook_window, W, 200)\n",
    " \n",
    "cv.waitKey(0)\n",
    "cv.destroyAllWindows()"
   ]
  },
  {
   "cell_type": "markdown",
   "metadata": {},
   "source": [
    "Capture Video From Camera"
   ]
  },
  {
   "cell_type": "code",
   "execution_count": null,
   "metadata": {},
   "outputs": [],
   "source": [
    "cap = cv.VideoCapture(0)\n",
    "if not cap.isOpened():\n",
    "    print(\"Cannot open camera\")\n",
    "    exit()\n",
    "\n",
    "while True:\n",
    "    # Capture frame by frame\n",
    "    ret, frame = cap.read() #cap.read returns a bool if the frame is read correctly it will return True\n",
    "\n",
    "    # If frame is read correctly ret is True\n",
    "    if not ret:\n",
    "        print(\"Can't recieve frame (stream end?).  Exiting...\")\n",
    "        break\n",
    "# Our operations on the frame come here\n",
    "\n",
    "    gray = cv.cvtColor(frame, cv.COLOR_BGR2GRAY)\n",
    "\n",
    "# Display the resulting frame\n",
    "\n",
    "    cv.imshow('frame', gray)\n",
    "    if cv.waitKey(1) == ord('q'):\n",
    "        break\n",
    "\n",
    "# When everything done, release the capture\n",
    "cap.release()\n",
    "cv.destroyAllWindows()\n",
    "\n",
    "\n"
   ]
  },
  {
   "cell_type": "markdown",
   "metadata": {},
   "source": [
    "- "
   ]
  },
  {
   "cell_type": "markdown",
   "metadata": {},
   "source": [
    "Playing Video From File\n",
    "- same as capture video from camera but use a file of a video instead"
   ]
  },
  {
   "cell_type": "code",
   "execution_count": null,
   "metadata": {},
   "outputs": [],
   "source": [
    "cap = cv.VideoCapture('examplevideofilename.avi')\n",
    "if not cap.isOpened():\n",
    "    print(\"Cannot open camera\")\n",
    "    exit()\n",
    "\n",
    "while True:\n",
    "    # Capture frame by frame\n",
    "    ret, frame = cap.read() #cap.read returns a bool if the frame is read correctly it will return True\n",
    "\n",
    "    # If frame is read correctly ret is True\n",
    "    if not ret:\n",
    "        print(\"Can't recieve frame (stream end?).  Exiting...\")\n",
    "        break\n",
    "# Our operations on the frame come here\n",
    "\n",
    "    gray = cv.cvtColor(frame, cv.COLOR_BGR2GRAY)\n",
    "\n",
    "# Display the resulting frame\n",
    "\n",
    "    cv.imshow('frame', gray)\n",
    "    if cv.waitKey(1) == ord('q'):\n",
    "        break\n",
    "\n",
    "# When everything done, release the capture\n",
    "cap.release()\n",
    "cv.destroyAllWindows()"
   ]
  },
  {
   "cell_type": "markdown",
   "metadata": {},
   "source": [
    "Saving Video"
   ]
  },
  {
   "cell_type": "code",
   "execution_count": null,
   "metadata": {},
   "outputs": [],
   "source": [
    "cap = cv.VideoCapture(0)\n",
    " \n",
    "# Define the codec and create VideoWriter object\n",
    "fourcc = cv.VideoWriter_fourcc(*'XVID')\n",
    "out = cv.VideoWriter('output.avi', fourcc, 20.0, (640,  480))\n",
    " \n",
    "while cap.isOpened():\n",
    "    ret, frame = cap.read()\n",
    "    if not ret:\n",
    "        print(\"Can't receive frame (stream end?). Exiting ...\")\n",
    "        break\n",
    "    frame = cv.flip(frame, 0)\n",
    " \n",
    "    # write the flipped frame\n",
    "    out.write(frame)\n",
    " \n",
    "    cv.imshow('frame', frame)\n",
    "    if cv.waitKey(1) == ord('q'):\n",
    "        break\n",
    " \n",
    "# Release everything if job is finished\n",
    "cap.release()\n",
    "out.release()\n",
    "cv.destroyAllWindows()"
   ]
  }
 ],
 "metadata": {
  "kernelspec": {
   "display_name": "sign_language_env",
   "language": "python",
   "name": "python3"
  },
  "language_info": {
   "codemirror_mode": {
    "name": "ipython",
    "version": 3
   },
   "file_extension": ".py",
   "mimetype": "text/x-python",
   "name": "python",
   "nbconvert_exporter": "python",
   "pygments_lexer": "ipython3",
   "version": "3.10.15"
  }
 },
 "nbformat": 4,
 "nbformat_minor": 2
}
