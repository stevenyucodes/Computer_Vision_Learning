{
 "cells": [
  {
   "cell_type": "code",
   "execution_count": null,
   "metadata": {},
   "outputs": [],
   "source": [
    "import cv2 as cv\n",
    "import numpy as np\n",
    " "
   ]
  },
  {
   "cell_type": "code",
   "execution_count": 3,
   "metadata": {},
   "outputs": [],
   "source": [
    "#window names\n",
    "atom_window = \"Draw 1: Atom\"\n",
    "W = 500\n",
    "\n",
    "size = W, W, 3\n",
    "\n",
    "atom_image = np.zeros(size, dtype=np.uint8)"
   ]
  },
  {
   "cell_type": "code",
   "execution_count": 4,
   "metadata": {},
   "outputs": [],
   "source": [
    "def my_ellipse(img, angle):\n",
    "    thickness = 2\n",
    "    line_type = 8\n",
    " \n",
    "    cv.ellipse(img,\n",
    "                (W // 2, W // 2),\n",
    "                (W // 4, W // 16),\n",
    "                angle,\n",
    "                0,\n",
    "                360,\n",
    "                (255, 0, 0),\n",
    "                thickness,\n",
    "                line_type)\n",
    "\n",
    "def my_filled_circle(img, center):\n",
    "    thickness = -1\n",
    "    line_type = 8\n",
    " \n",
    "    cv.circle(img,\n",
    "               center,\n",
    "               W // 32,\n",
    "               (0, 0, 255),\n",
    "               thickness,\n",
    "               line_type)"
   ]
  },
  {
   "cell_type": "code",
   "execution_count": 9,
   "metadata": {},
   "outputs": [],
   "source": [
    "# 1. Draw a simple atom:\n",
    "# -----------------------\n",
    " \n",
    "# 1.a. Creating ellipses\n",
    "my_ellipse(atom_image, 10)\n",
    "my_ellipse(atom_image, 15)\n",
    "my_ellipse(atom_image, 25)\n",
    "my_ellipse(atom_image, 5)\n",
    " \n",
    "# 1.b. Creating circles\n",
    "my_filled_circle(atom_image, (W // 2, W // 2))"
   ]
  },
  {
   "cell_type": "code",
   "execution_count": 10,
   "metadata": {},
   "outputs": [],
   "source": [
    "cv.imshow(atom_window, atom_image)\n",
    "cv.moveWindow(atom_window, 0, 200)\n",
    "cv.waitKey(0)\n",
    "cv.destroyAllWindows()"
   ]
  },
  {
   "cell_type": "code",
   "execution_count": null,
   "metadata": {},
   "outputs": [],
   "source": []
  }
 ],
 "metadata": {
  "kernelspec": {
   "display_name": "sign_language_env",
   "language": "python",
   "name": "python3"
  },
  "language_info": {
   "codemirror_mode": {
    "name": "ipython",
    "version": 3
   },
   "file_extension": ".py",
   "mimetype": "text/x-python",
   "name": "python",
   "nbconvert_exporter": "python",
   "pygments_lexer": "ipython3",
   "version": "3.10.15"
  }
 },
 "nbformat": 4,
 "nbformat_minor": 2
}
